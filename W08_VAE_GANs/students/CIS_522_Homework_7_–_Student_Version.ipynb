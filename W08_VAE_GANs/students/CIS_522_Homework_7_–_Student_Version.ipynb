{
  "nbformat": 4,
  "nbformat_minor": 0,
  "metadata": {
    "colab": {
      "name": "CIS_522_Homework_7_–_Student_Version.ipynb",
      "provenance": []
    },
    "kernelspec": {
      "name": "python3",
      "display_name": "Python 3"
    },
    "accelerator": "GPU"
  },
  "cells": [
    {
      "cell_type": "markdown",
      "metadata": {
        "id": "view-in-github"
      },
      "source": [
        "<a href=\"https://colab.research.google.com/github/CIS-522/course-content/blob/main/tutorials/W08_AutoEncoders_GANs/W8_Homework.ipynb\" target=\"_parent\"><img src=\"https://colab.research.google.com/assets/colab-badge.svg\" alt=\"Open In Colab\"/></a>"
      ]
    },
    {
      "cell_type": "markdown",
      "metadata": {
        "id": "TkhEz6Y17Q9c"
      },
      "source": [
        "# CIS-522 Week 8 Homework\n",
        "\n",
        "\n",
        "**Instructor:** Konrad Kording\n",
        "\n",
        "**Content Creators:** Richard Lange, Arash Ash\n",
        "\n",
        "**Content Reviewers:** Ann-Katrin Reuel"
      ]
    },
    {
      "cell_type": "code",
      "metadata": {
        "id": "7TEunJDE7wC7",
        "cellView": "form"
      },
      "source": [
        "#@markdown What is your Pennkey and pod? (text, not numbers, e.g. bfranklin)\n",
        "my_pennkey = '' #@param {type:\"string\"}\n",
        "my_pod = 'Select' #@param ['Select', 'upain', 'ah-damn-optimizer', 'backpropagandists', 'backpropers','excel-erators','GAN-gsters','han-not-solo','hufflefluffs','lets-taco-bout-it','natural-networkers','pytorture','sigmoids','strong-signals','the-denominators','the-travellers', 'the-weekenders', 'tomorrows-incredibles', 'brute-force']\n",
        "my_email = '' #@param {type:\"string\"}\n",
        "tutorial = 'W7D1'\n",
        "\n",
        "# start timing\n",
        "import time\n",
        "try:t0;\n",
        "except NameError: t0 = time.time()\n"
      ],
      "execution_count": null,
      "outputs": []
    },
    {
      "cell_type": "markdown",
      "metadata": {
        "id": "6DQZZg1Fhj5y"
      },
      "source": [
        "We **strongly** recommend that you keep a separate document offline with your answers, and paste them in when you're ready to submit. Colab may reset and clear your notebook after a period of inactivity."
      ]
    },
    {
      "cell_type": "markdown",
      "metadata": {
        "id": "8Q001COb70H5"
      },
      "source": [
        "---\n",
        "#Setup"
      ]
    },
    {
      "cell_type": "code",
      "metadata": {
        "id": "4czoj8Ll725j"
      },
      "source": [
        "from IPython.display import IFrame"
      ],
      "execution_count": null,
      "outputs": []
    },
    {
      "cell_type": "markdown",
      "metadata": {
        "id": "iSAYQpu475c9"
      },
      "source": [
        "# Part 1: build a VAE!"
      ]
    },
    {
      "cell_type": "markdown",
      "metadata": {
        "id": "R_PIzQDB7_0L"
      },
      "source": [
        "Picking up where tutorial W8D1 left off: complete W8D1 Exercise 5. You may not be able to run multiple colab notebooks at once, so after completing the tutorial notebook, record some information for this assignment:\n",
        "\n",
        "1. Make a note of your W8D1 Colab link, you will have to submit it for this homework, too.\n",
        "2. Make a note of any changes you made to the architecture - you're encouraged to experiment!\n",
        "3. Make a note of the value of the ELBO at the end of training.\n",
        "3. Make a note of `vae.sig_x` at the end of training."
      ]
    },
    {
      "cell_type": "code",
      "metadata": {
        "id": "-ldUhAXuFpb7",
        "cellView": "form"
      },
      "source": [
        "#@markdown Which dataset did you train your VAE on? MNIST or CIFAR?\n",
        "vae_dataset = \"\" #@param{type:\"string\"}\n",
        "#@markdown What dimensionality did you use for z (what is K)?\n",
        "vae_k_hidden = \"\" #@param{type:\"string\"}\n",
        "#@markdown How many convolutional filters did you use in each layer?\n",
        "vae_num_filters = \"\" #@param{type:\"string\"}\n",
        "#@markdown What value did the ELBO converge to?\n",
        "vae_elbo = \"\" #@param{type:\"string\"}\n",
        "#@markdown After training, what was the value of `vae.sig_x`?\n",
        "vae_sig_x = \"\" #@param{type:\"string\"}\n",
        "#@markdown How did you experiment with the architecture?\n",
        "vae_changes = \"\" #@param{type:\"string\"}"
      ],
      "execution_count": null,
      "outputs": []
    },
    {
      "cell_type": "markdown",
      "metadata": {
        "id": "9g1wQq118Aac"
      },
      "source": [
        "# Part 2: Know-a-pod"
      ]
    },
    {
      "cell_type": "markdown",
      "metadata": {
        "id": "fwtrWtDy8HzK"
      },
      "source": [
        "Discuss with two other members of your pod. What is an accomplishment that they are proud of, and why? Write two sentences about each of the two pod members."
      ]
    },
    {
      "cell_type": "code",
      "metadata": {
        "id": "63bbOM9hJkVC",
        "cellView": "form"
      },
      "source": [
        "know_your_pod = \"\" #@param{type:\"string\"}"
      ],
      "execution_count": null,
      "outputs": []
    },
    {
      "cell_type": "markdown",
      "metadata": {
        "id": "4H1sYq198IPq"
      },
      "source": [
        "# Part 3: Deep Learning, Deeper Thinking\n",
        "<img width=\"500\" src=\"https://raw.githubusercontent.com/CIS-522/course-content/main/W08_VAE_GANs/students/cake_clipart.png\" />\n",
        "\n",
        "In this section, we will take a deeper dive into generative models and their implications for society. We will explore how these models may be used and misused, and what that means for engineers, policymakers, and end-users.\n",
        "\n"
      ]
    },
    {
      "cell_type": "markdown",
      "metadata": {
        "id": "ki6ZAa8pYI7L"
      },
      "source": [
        "## Part 3.1 Starstruck by Generative Models\n",
        "\n",
        "Let's begin by reading [this OpenAI blog post](https://openai.com/blog/generative-models/) as a primer on generative models.\n",
        "\n",
        "Then, read [This Quanta article on how GANs are changing other science domains](https://www.quantamagazine.org/how-artificial-intelligence-is-changing-science-20190311/), particularly astronomy.\n",
        "\n",
        "Recall the [cake analogy](https://medium.com/syncedreview/yann-lecun-cake-analogy-2-0-a361da560dae) from D1.\n",
        "\n",
        "**In 300-500 words, please answer the following:**\n",
        "* Why might we (engineers, scientists, the public, policymakers) want to have good generative models? What might be a (set of) goals that we aspire to achieve through the development of generative models? \n",
        "* How do GANs and VAEs relate to LeCun's cake analogy? Have we realized the cake or only a portion of it - and how might GANs move us closer (or further) from this goal? Is the GAN/VAE-flavor of unsupervised learning the kind of learning we're interested in, or is it simply a distraction?\n",
        "* What are some societal risks involved with the use of generative models in science? What about deployment to the general public?"
      ]
    },
    {
      "cell_type": "code",
      "metadata": {
        "id": "Z-s6R6fhhZF9",
        "cellView": "form"
      },
      "source": [
        "generative_initial_reaction = \"\" #@param{type:\"string\"}"
      ],
      "execution_count": null,
      "outputs": []
    },
    {
      "cell_type": "markdown",
      "metadata": {
        "id": "5VXjke88V1Qc"
      },
      "source": [
        "## Part 3.2 (Deep)Fake it Till You Make It\n",
        "\n",
        "\n",
        "Now, read the following:\n",
        "* [This Guardian article on DeepFakes and How to Spot Them](https://www.theguardian.com/technology/2020/jan/13/what-are-deepfakes-and-how-can-you-spot-them)\n",
        "\n",
        "\n",
        "Then, test yourself: \n",
        "* [Can you spot the Deepfake?](https://detectfakes.media.mit.edu/) try >10 examples and remember how many you got right. \n",
        "\n",
        "\n",
        "**In 300-500 words, answer the following questions:**\n",
        "* How did you do? Were you able to detect the DeepFakes?\n",
        "* As researchers and engineers, one of our roles is to communicate effectively and interface with journalists and the public. Do you think this article did a good job of presenting the risks of Deepfakes and generative models? If yes, describe one area that you felt the article did a good job explaining the concept to a public audience. If no, describe an area for improvement.\n",
        "* How would you weigh the costs and benefits of generative models for use in science, engineering, and the public? Do the benefits outweigh the risks? If so, why? If not, what should we do about it?"
      ]
    },
    {
      "cell_type": "code",
      "metadata": {
        "id": "M6xsDZa_ba6W",
        "cellView": "form"
      },
      "source": [
        "generative_models_costs_and_benefits = \"\" #@param{type:\"string\"}"
      ],
      "execution_count": null,
      "outputs": []
    },
    {
      "cell_type": "markdown",
      "metadata": {
        "id": "Itbr5IuF85qz"
      },
      "source": [
        "---\n",
        "# Submit to Airtable\n",
        "**Don't forget to contribute to the conversation in your pod slack channel.** You can do so by copying and pasting some or all of the answers to the above questions, or by commenting and responding to other people's posts. "
      ]
    },
    {
      "cell_type": "code",
      "metadata": {
        "id": "T9H-l0T68_XT",
        "cellView": "form",
        "colab": {
          "base_uri": "https://localhost:8080/",
          "height": 421
        },
        "outputId": "d81247b2-1ffe-4387-a4a6-e1819eed2a43"
      },
      "source": [
        "\n",
        "# @title Run Cell to Show Airtable Form. If you're having trouble with the submission form, use this link: https://airtable.com/shrUKD1aSJtjUXRbS\n",
        "\n",
        "def prefill_form(src, fields: dict):\n",
        "  '''\n",
        "  src: the original src url to embed the form\n",
        "  fields: a dictionary of field:value pairs,\n",
        "  e.g. {\"pennkey\": my_pennkey, \"location\": my_location}\n",
        "  '''\n",
        "  prefills = \"&\".join([\"prefill_%s=%s\"%(key, fields[key]) for key in fields])\n",
        "  src = src + prefills\n",
        "  src = \"+\".join(src.split(\" \"))\n",
        "  return src\n",
        "\n",
        "#autofill fields if they are not present\n",
        "#a missing pennkey and pod will result in an Airtable warning\n",
        "#which is easily fixed user-side.\n",
        "try: my_pennkey;\n",
        "except NameError: my_pennkey = \"\"\n",
        "try: my_pod;\n",
        "except NameError: my_pod = \"Select\"\n",
        "try:t1;\n",
        "except NameError: t1 = time.time()\n",
        "\n",
        "times = [(t-t0) for t in [t1]]\n",
        "\n",
        "fields = {\"pennkey\": my_pennkey,\n",
        "          \"pod\": my_pod,\n",
        "          \"vae_dataset\": vae_dataset,\n",
        "          \"vae_k_hidden\": vae_k_hidden,\n",
        "          \"vae_num_filters\": vae_num_filters,\n",
        "          \"vae_elbo\": vae_elbo,\n",
        "          \"vae_sig_x\": vae_sig_x,\n",
        "          \"vae_changes\": vae_changes,\n",
        "          \"know_your_pod\": know_your_pod,\n",
        "          \"generative_initial_reaction\": generative_initial_reaction,\n",
        "          \"generative_models_costs_and_benefits\": generative_models_costs_and_benefits,\n",
        "          \"cumulative_times\": times}\n",
        "\n",
        "src = \"https://airtable.com/embed/shrUKD1aSJtjUXRbS?\"\n",
        "\n",
        "#now instead of the original source url, we do: src = prefill_form(src, fields)\n",
        "display(IFrame(src = prefill_form(src, fields), width = 800, height = 400))"
      ],
      "execution_count": null,
      "outputs": [
        {
          "output_type": "display_data",
          "data": {
            "text/html": [
              "\n",
              "        <iframe\n",
              "            width=\"800\"\n",
              "            height=\"400\"\n",
              "            src=\"https://airtable.com/embed/shrUKD1aSJtjUXRbS?prefill_pennkey=&prefill_pod=Select&prefill_vae_dataset=&prefill_vae_k_hidden=&prefill_vae_num_filters=&prefill_vae_elbo=&prefill_vae_sig_x=&prefill_vae_changes=&prefill_know_your_pod=&prefill_generative_initial_reaction=&prefill_generative_models_costs_and_benefits=&prefill_cumulative_times=[40.93883776664734]\"\n",
              "            frameborder=\"0\"\n",
              "            allowfullscreen\n",
              "        ></iframe>\n",
              "        "
            ],
            "text/plain": [
              "<IPython.lib.display.IFrame at 0x7f1f96f39f90>"
            ]
          },
          "metadata": {}
        }
      ]
    }
  ]
}