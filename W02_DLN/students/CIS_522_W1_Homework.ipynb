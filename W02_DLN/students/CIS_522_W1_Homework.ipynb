{
  "nbformat": 4,
  "nbformat_minor": 0,
  "metadata": {
    "colab": {
      "name": "CIS-522_W1_Homework.ipynb",
      "provenance": []
    },
    "kernelspec": {
      "name": "python3",
      "display_name": "Python 3"
    },
    "language_info": {
      "name": "python"
    }
  },
  "cells": [
    {
      "cell_type": "markdown",
      "source": [
        "# CIS-522 Week 1 Homework\n",
        "\n",
        "**Instructors: Konrad Körding, Lyle Ungar**\n",
        "\n",
        "**Content Creators: Ann-Katrin Reuel**"
      ],
      "metadata": {
        "id": "cG5FU-ftAi1R"
      }
    },
    {
      "cell_type": "code",
      "source": [
        "#@markdown What is your Pennkey and pod? (text, not numbers, e.g. bfranklin)\n",
        "my_pennkey = '' #@param {type:\"string\"}\n",
        "my_pod = 'Select' #@param ['Select', 'upain', 'ah-damn-optimizer', 'backpropagandists', 'backpropers','excel-erators','GAN-gsters','han-not-solo','hufflefluffs','lets-taco-bout-it','natural-networkers','pytorture','sigmoids','strong-signals','the-denominators','the-travellers', 'the-weekenders', 'tomorrows-incredibles', 'brute-force']\n",
        "my_email = '' #@param {type:\"string\"}\n",
        "tutorial = 'W2D1'\n",
        "\n",
        "\n",
        "# start timing\n",
        "import time\n",
        "try:t0;\n",
        "except NameError: t0 = time.time()"
      ],
      "metadata": {
        "id": "Xa0RvJQ6Avwb",
        "cellView": "form"
      },
      "execution_count": 2,
      "outputs": []
    },
    {
      "cell_type": "markdown",
      "source": [
        "## A Few Remarks on Homeworks\n",
        "\n",
        "As you might have noticed, we are not your standard deep learning course. As such, **your homeworks won't be all coding** – we want to encourage you to think about the implications of deep learning and what you as a developer, product manager, CEO, or professor (or whatever you want to be when you grow up!) can do to mitigate some of the potential negative consequences of these technologies. \n",
        "\n",
        "This means that at least part of each homework will consist of **ethical discussion questions**. While we understand that many of you prefer to do coding (and we'll do that in workbooks, some homeworks, and your final projects!), we believe that the ramifications of deep learning aren't taught enough in college, and we want you to become well-rounded individuals that not only can implement deep learning algorithms but also give educated evaluations and see when things might go wrong or need improvement from a societal perspective.\n",
        "\n",
        "We will also be fairly **lenient in grading**. Our focus is on your learning journey rather than stressing you out about perfect homeworks, and as long as we see that you put in some thought and effort, you'll receive a high mark. \n",
        "\n",
        "This first homework is just a warm up and future homeworks will increase in length. But let's take it a little easier for now :)"
      ],
      "metadata": {
        "id": "MlkZiLxsA2EV"
      }
    },
    {
      "cell_type": "markdown",
      "source": [
        "## Let's get started!\n",
        "\n",
        "Before you roll your eyes, let’s be clear - the goal of this module is neither to stoke fears about the robot overlords taking over nor to convince you that deep learning is the best thing since sliced bread. Instead, our goal in this course is to take a nuanced view into how we can build algorithms that can improve the world around us, while also recognizing the shortcomings and pitfalls of these artificial agents. \n",
        "\n",
        "The following questions are loosely based on the movie \"Coded Bias\" that is available on Netflix. If you want to (and we encourage you to!), you can watch it for free [here](https://franklin.library.upenn.edu/catalog/FRANKLIN_9977866343303681) before attempting the homework, but it is not neccessary to complete the questions.\n",
        "\n",
        "\n",
        "**In the documentary, Cathy O'Neil says that \"Your view on the world is being governed by algorithms\". In the context of this statement, please write 300 to 400 words about the areas of your life that are impacted by deep learning and how you think this technology is shaping your world view. Refer to at least two different areas of life where you've been personally affected by it, either positively or negatively.**"
      ],
      "metadata": {
        "id": "O7Pw4CmwC02v"
      }
    },
    {
      "cell_type": "code",
      "source": [
        "#@title Your Response Here\n",
        "\n",
        "reflection_A = '' #@param {type:\"string\"}\n",
        "try:t1;\n",
        "except NameError: t1 = time.time()"
      ],
      "metadata": {
        "cellView": "form",
        "id": "LPSHEqJzFHwr"
      },
      "execution_count": 3,
      "outputs": []
    },
    {
      "cell_type": "markdown",
      "source": [
        "**Now think a little bit outside of your everyday bubble – which groups do you think are most negatively impacted by deep learning? Name at least two examples and describe how the technology affects these two groups. Bonus points if you find examples we've never heard about before!** "
      ],
      "metadata": {
        "id": "c6hdTPXcFxgb"
      }
    },
    {
      "cell_type": "code",
      "source": [
        "#@title Your Response Here\n",
        "\n",
        "reflection_B = '' #@param {type:\"string\"}\n",
        "try:t2;\n",
        "except NameError: t2 = time.time()"
      ],
      "metadata": {
        "cellView": "form",
        "id": "Nhu1-ykGGbuf"
      },
      "execution_count": 4,
      "outputs": []
    },
    {
      "cell_type": "markdown",
      "source": [
        "Finally, one of our favorite parts about the homework: Each week, we will ask you a new question about your fellow pod members to encourage you to get to know each other. We believe in cooperation, and let's be honest, deep learning is a lot more fun together!\n",
        "\n",
        "**For this week, we want you to ask two of your pod members the following question: If you could learn one new personal skill, what would it be and why? Write 2 to 3 sentences for each of the two pod members.**"
      ],
      "metadata": {
        "id": "Yfb6sfecGe6E"
      }
    },
    {
      "cell_type": "code",
      "source": [
        "#@title Your Response Here\n",
        "\n",
        "know_your_pod = '' #@param {type:\"string\"}\n",
        "try:t3;\n",
        "except NameError: t3 = time.time()"
      ],
      "metadata": {
        "cellView": "form",
        "id": "dq55DmexOkSH"
      },
      "execution_count": 5,
      "outputs": []
    },
    {
      "cell_type": "markdown",
      "source": [
        "## Submission\n",
        "\n",
        "Double check that the answers have been correctly formatted in the Airtable below, and edit them as desired. In addition to submitting the form, contribute and reflect on these readings in the student Slack space."
      ],
      "metadata": {
        "id": "LO3L9UDQ2S3u"
      }
    },
    {
      "cell_type": "code",
      "source": [
        "#@markdown #Run Cell to Show Airtable Form\n",
        "#@markdown ##**Confirm your answers and then click \"Submit\"**\n",
        "import numpy as np\n",
        "import time\n",
        "from IPython.display import IFrame\n",
        "def prefill_form(src, fields: dict):\n",
        "  '''\n",
        "  src: the original src url to embed the form\n",
        "  fields: a dictionary of field:value pairs,\n",
        "  e.g. {\"pennkey\": my_pennkey, \"location\": my_location}\n",
        "  '''\n",
        "  prefills = \"&\".join([\"prefill_%s=%s\"%(key, fields[key]) for key in fields])\n",
        "  src = src + prefills\n",
        "  src = \"+\".join(src.split(\" \"))\n",
        "  return src\n",
        "\n",
        "#autofill time if it is not present\n",
        "try: t0;\n",
        "except NameError: t0 = time.time()\n",
        "try: t1;\n",
        "except NameError: t1 = time.time()\n",
        "try: t2;\n",
        "except NameError: t2 = time.time()\n",
        "try: t3;\n",
        "except NameError: t3 = time.time()\n",
        "\n",
        "#autofill fields if they are not present\n",
        "#a missing pennkey and pod will result in an Airtable warning\n",
        "#which is easily fixed user-side.\n",
        "try: my_pennkey;\n",
        "except NameError: my_pennkey = \"\"\n",
        "try: my_pod;\n",
        "except NameError: my_pod = \"Select\"\n",
        "try: reflection_A;\n",
        "except NameError: reflection_A = \"\"\n",
        "try: reflection_B;\n",
        "except NameError: reflection_B = \"\"\n",
        "try: know_your_pod;\n",
        "except NameError: know_your_pod = \"\"\n",
        "\n",
        "\n",
        "times = np.array([t1,t2,t3])-t0\n",
        "\n",
        "fields = {\"pennkey\": my_pennkey,\n",
        "          \"pod\": my_pod,\n",
        "          \"email\" : my_email,\n",
        "          \"reflection_A\": reflection_A,\n",
        "          \"reflection_B\": reflection_B,\n",
        "          \"know_your_pod\": know_your_pod,\n",
        "          \"cumulative_times\": times}\n",
        "\n",
        "src = \"https://airtable.com/embed/shrCs0oCJ20Li8m5I?\"\n",
        "\n",
        "#now instead of the original source url, we do: src = prefill_form(src, fields)\n",
        "display(IFrame(src = prefill_form(src, fields), width = 800, height = 400))"
      ],
      "metadata": {
        "colab": {
          "base_uri": "https://localhost:8080/",
          "height": 421
        },
        "cellView": "form",
        "id": "-czvxzPU1_Oo",
        "outputId": "c291a626-4109-4f99-d7cf-806c27d32a42"
      },
      "execution_count": 6,
      "outputs": [
        {
          "output_type": "display_data",
          "data": {
            "text/html": [
              "\n",
              "        <iframe\n",
              "            width=\"800\"\n",
              "            height=\"400\"\n",
              "            src=\"https://airtable.com/embed/shrCs0oCJ20Li8m5I?prefill_pennkey=&prefill_pod=Select&prefill_email=&prefill_reflection_A=&prefill_reflection_B=&prefill_know_your_pod=&prefill_cumulative_times=[271.20821166+271.21662879+271.22509623]\"\n",
              "            frameborder=\"0\"\n",
              "            allowfullscreen\n",
              "        ></iframe>\n",
              "        "
            ],
            "text/plain": [
              "<IPython.lib.display.IFrame at 0x7f75f3952a10>"
            ]
          },
          "metadata": {}
        }
      ]
    }
  ]
}