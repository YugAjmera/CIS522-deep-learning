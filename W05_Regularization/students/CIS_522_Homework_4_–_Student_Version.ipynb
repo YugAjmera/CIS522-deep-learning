{
  "nbformat": 4,
  "nbformat_minor": 0,
  "metadata": {
    "colab": {
      "name": "CIS_522_Homework 4 –_Student_Version",
      "provenance": [],
      "collapsed_sections": []
    },
    "kernelspec": {
      "name": "python3",
      "display_name": "Python 3"
    },
    "accelerator": "GPU",
    "widgets": {
      "application/vnd.jupyter.widget-state+json": {
        "8921bec6ba1f4c87b5a0663cc13f2479": {
          "model_module": "@jupyter-widgets/controls",
          "model_name": "HBoxModel",
          "model_module_version": "1.5.0",
          "state": {
            "_view_name": "HBoxView",
            "_dom_classes": [],
            "_model_name": "HBoxModel",
            "_view_module": "@jupyter-widgets/controls",
            "_model_module_version": "1.5.0",
            "_view_count": null,
            "_view_module_version": "1.5.0",
            "box_style": "",
            "layout": "IPY_MODEL_76c8e20dff1243258881bf2b77b9905f",
            "_model_module": "@jupyter-widgets/controls",
            "children": [
              "IPY_MODEL_0a749066798d4599aef904f6d66de08d",
              "IPY_MODEL_4d95e5b28cbf4ff69089aef22baacf57",
              "IPY_MODEL_c80e1a2d47ca4458b4a13e3804b40428"
            ]
          }
        },
        "76c8e20dff1243258881bf2b77b9905f": {
          "model_module": "@jupyter-widgets/base",
          "model_name": "LayoutModel",
          "model_module_version": "1.2.0",
          "state": {
            "_view_name": "LayoutView",
            "grid_template_rows": null,
            "right": null,
            "justify_content": null,
            "_view_module": "@jupyter-widgets/base",
            "overflow": null,
            "_model_module_version": "1.2.0",
            "_view_count": null,
            "flex_flow": null,
            "width": null,
            "min_width": null,
            "border": null,
            "align_items": null,
            "bottom": null,
            "_model_module": "@jupyter-widgets/base",
            "top": null,
            "grid_column": null,
            "overflow_y": null,
            "overflow_x": null,
            "grid_auto_flow": null,
            "grid_area": null,
            "grid_template_columns": null,
            "flex": null,
            "_model_name": "LayoutModel",
            "justify_items": null,
            "grid_row": null,
            "max_height": null,
            "align_content": null,
            "visibility": null,
            "align_self": null,
            "height": null,
            "min_height": null,
            "padding": null,
            "grid_auto_rows": null,
            "grid_gap": null,
            "max_width": null,
            "order": null,
            "_view_module_version": "1.2.0",
            "grid_template_areas": null,
            "object_position": null,
            "object_fit": null,
            "grid_auto_columns": null,
            "margin": null,
            "display": null,
            "left": null
          }
        },
        "0a749066798d4599aef904f6d66de08d": {
          "model_module": "@jupyter-widgets/controls",
          "model_name": "HTMLModel",
          "model_module_version": "1.5.0",
          "state": {
            "_view_name": "HTMLView",
            "style": "IPY_MODEL_ef5a8c6d09d349e5b7eb83ef62bb8d7b",
            "_dom_classes": [],
            "description": "",
            "_model_name": "HTMLModel",
            "placeholder": "​",
            "_view_module": "@jupyter-widgets/controls",
            "_model_module_version": "1.5.0",
            "value": "",
            "_view_count": null,
            "_view_module_version": "1.5.0",
            "description_tooltip": null,
            "_model_module": "@jupyter-widgets/controls",
            "layout": "IPY_MODEL_a9a5648b4a404e7d8224a6cbf420c014"
          }
        },
        "4d95e5b28cbf4ff69089aef22baacf57": {
          "model_module": "@jupyter-widgets/controls",
          "model_name": "FloatProgressModel",
          "model_module_version": "1.5.0",
          "state": {
            "_view_name": "ProgressView",
            "style": "IPY_MODEL_9c4567f157b24364837a2c93bf8461e0",
            "_dom_classes": [],
            "description": "",
            "_model_name": "FloatProgressModel",
            "bar_style": "success",
            "max": 9912422,
            "_view_module": "@jupyter-widgets/controls",
            "_model_module_version": "1.5.0",
            "value": 9912422,
            "_view_count": null,
            "_view_module_version": "1.5.0",
            "orientation": "horizontal",
            "min": 0,
            "description_tooltip": null,
            "_model_module": "@jupyter-widgets/controls",
            "layout": "IPY_MODEL_15483085d02545eba56c41a9d031df94"
          }
        },
        "c80e1a2d47ca4458b4a13e3804b40428": {
          "model_module": "@jupyter-widgets/controls",
          "model_name": "HTMLModel",
          "model_module_version": "1.5.0",
          "state": {
            "_view_name": "HTMLView",
            "style": "IPY_MODEL_33ef39d4ee69443aa516ab9699c47d93",
            "_dom_classes": [],
            "description": "",
            "_model_name": "HTMLModel",
            "placeholder": "​",
            "_view_module": "@jupyter-widgets/controls",
            "_model_module_version": "1.5.0",
            "value": " 9913344/? [00:00&lt;00:00, 21235962.23it/s]",
            "_view_count": null,
            "_view_module_version": "1.5.0",
            "description_tooltip": null,
            "_model_module": "@jupyter-widgets/controls",
            "layout": "IPY_MODEL_40d12311a4b44a8ca93b09abbd0e7a65"
          }
        },
        "ef5a8c6d09d349e5b7eb83ef62bb8d7b": {
          "model_module": "@jupyter-widgets/controls",
          "model_name": "DescriptionStyleModel",
          "model_module_version": "1.5.0",
          "state": {
            "_view_name": "StyleView",
            "_model_name": "DescriptionStyleModel",
            "description_width": "",
            "_view_module": "@jupyter-widgets/base",
            "_model_module_version": "1.5.0",
            "_view_count": null,
            "_view_module_version": "1.2.0",
            "_model_module": "@jupyter-widgets/controls"
          }
        },
        "a9a5648b4a404e7d8224a6cbf420c014": {
          "model_module": "@jupyter-widgets/base",
          "model_name": "LayoutModel",
          "model_module_version": "1.2.0",
          "state": {
            "_view_name": "LayoutView",
            "grid_template_rows": null,
            "right": null,
            "justify_content": null,
            "_view_module": "@jupyter-widgets/base",
            "overflow": null,
            "_model_module_version": "1.2.0",
            "_view_count": null,
            "flex_flow": null,
            "width": null,
            "min_width": null,
            "border": null,
            "align_items": null,
            "bottom": null,
            "_model_module": "@jupyter-widgets/base",
            "top": null,
            "grid_column": null,
            "overflow_y": null,
            "overflow_x": null,
            "grid_auto_flow": null,
            "grid_area": null,
            "grid_template_columns": null,
            "flex": null,
            "_model_name": "LayoutModel",
            "justify_items": null,
            "grid_row": null,
            "max_height": null,
            "align_content": null,
            "visibility": null,
            "align_self": null,
            "height": null,
            "min_height": null,
            "padding": null,
            "grid_auto_rows": null,
            "grid_gap": null,
            "max_width": null,
            "order": null,
            "_view_module_version": "1.2.0",
            "grid_template_areas": null,
            "object_position": null,
            "object_fit": null,
            "grid_auto_columns": null,
            "margin": null,
            "display": null,
            "left": null
          }
        },
        "9c4567f157b24364837a2c93bf8461e0": {
          "model_module": "@jupyter-widgets/controls",
          "model_name": "ProgressStyleModel",
          "model_module_version": "1.5.0",
          "state": {
            "_view_name": "StyleView",
            "_model_name": "ProgressStyleModel",
            "description_width": "",
            "_view_module": "@jupyter-widgets/base",
            "_model_module_version": "1.5.0",
            "_view_count": null,
            "_view_module_version": "1.2.0",
            "bar_color": null,
            "_model_module": "@jupyter-widgets/controls"
          }
        },
        "15483085d02545eba56c41a9d031df94": {
          "model_module": "@jupyter-widgets/base",
          "model_name": "LayoutModel",
          "model_module_version": "1.2.0",
          "state": {
            "_view_name": "LayoutView",
            "grid_template_rows": null,
            "right": null,
            "justify_content": null,
            "_view_module": "@jupyter-widgets/base",
            "overflow": null,
            "_model_module_version": "1.2.0",
            "_view_count": null,
            "flex_flow": null,
            "width": null,
            "min_width": null,
            "border": null,
            "align_items": null,
            "bottom": null,
            "_model_module": "@jupyter-widgets/base",
            "top": null,
            "grid_column": null,
            "overflow_y": null,
            "overflow_x": null,
            "grid_auto_flow": null,
            "grid_area": null,
            "grid_template_columns": null,
            "flex": null,
            "_model_name": "LayoutModel",
            "justify_items": null,
            "grid_row": null,
            "max_height": null,
            "align_content": null,
            "visibility": null,
            "align_self": null,
            "height": null,
            "min_height": null,
            "padding": null,
            "grid_auto_rows": null,
            "grid_gap": null,
            "max_width": null,
            "order": null,
            "_view_module_version": "1.2.0",
            "grid_template_areas": null,
            "object_position": null,
            "object_fit": null,
            "grid_auto_columns": null,
            "margin": null,
            "display": null,
            "left": null
          }
        },
        "33ef39d4ee69443aa516ab9699c47d93": {
          "model_module": "@jupyter-widgets/controls",
          "model_name": "DescriptionStyleModel",
          "model_module_version": "1.5.0",
          "state": {
            "_view_name": "StyleView",
            "_model_name": "DescriptionStyleModel",
            "description_width": "",
            "_view_module": "@jupyter-widgets/base",
            "_model_module_version": "1.5.0",
            "_view_count": null,
            "_view_module_version": "1.2.0",
            "_model_module": "@jupyter-widgets/controls"
          }
        },
        "40d12311a4b44a8ca93b09abbd0e7a65": {
          "model_module": "@jupyter-widgets/base",
          "model_name": "LayoutModel",
          "model_module_version": "1.2.0",
          "state": {
            "_view_name": "LayoutView",
            "grid_template_rows": null,
            "right": null,
            "justify_content": null,
            "_view_module": "@jupyter-widgets/base",
            "overflow": null,
            "_model_module_version": "1.2.0",
            "_view_count": null,
            "flex_flow": null,
            "width": null,
            "min_width": null,
            "border": null,
            "align_items": null,
            "bottom": null,
            "_model_module": "@jupyter-widgets/base",
            "top": null,
            "grid_column": null,
            "overflow_y": null,
            "overflow_x": null,
            "grid_auto_flow": null,
            "grid_area": null,
            "grid_template_columns": null,
            "flex": null,
            "_model_name": "LayoutModel",
            "justify_items": null,
            "grid_row": null,
            "max_height": null,
            "align_content": null,
            "visibility": null,
            "align_self": null,
            "height": null,
            "min_height": null,
            "padding": null,
            "grid_auto_rows": null,
            "grid_gap": null,
            "max_width": null,
            "order": null,
            "_view_module_version": "1.2.0",
            "grid_template_areas": null,
            "object_position": null,
            "object_fit": null,
            "grid_auto_columns": null,
            "margin": null,
            "display": null,
            "left": null
          }
        },
        "50818b966616460a9d4ae69cc491a9f1": {
          "model_module": "@jupyter-widgets/controls",
          "model_name": "HBoxModel",
          "model_module_version": "1.5.0",
          "state": {
            "_view_name": "HBoxView",
            "_dom_classes": [],
            "_model_name": "HBoxModel",
            "_view_module": "@jupyter-widgets/controls",
            "_model_module_version": "1.5.0",
            "_view_count": null,
            "_view_module_version": "1.5.0",
            "box_style": "",
            "layout": "IPY_MODEL_84b59398e3a3447281b7435958143a1e",
            "_model_module": "@jupyter-widgets/controls",
            "children": [
              "IPY_MODEL_2fa8b732700e4f06878d28dfaa5832fe",
              "IPY_MODEL_93ecfd49d44f45608b7fb7016d9ac49c",
              "IPY_MODEL_aeb000246bca4d708712fd1668d5efa1"
            ]
          }
        },
        "84b59398e3a3447281b7435958143a1e": {
          "model_module": "@jupyter-widgets/base",
          "model_name": "LayoutModel",
          "model_module_version": "1.2.0",
          "state": {
            "_view_name": "LayoutView",
            "grid_template_rows": null,
            "right": null,
            "justify_content": null,
            "_view_module": "@jupyter-widgets/base",
            "overflow": null,
            "_model_module_version": "1.2.0",
            "_view_count": null,
            "flex_flow": null,
            "width": null,
            "min_width": null,
            "border": null,
            "align_items": null,
            "bottom": null,
            "_model_module": "@jupyter-widgets/base",
            "top": null,
            "grid_column": null,
            "overflow_y": null,
            "overflow_x": null,
            "grid_auto_flow": null,
            "grid_area": null,
            "grid_template_columns": null,
            "flex": null,
            "_model_name": "LayoutModel",
            "justify_items": null,
            "grid_row": null,
            "max_height": null,
            "align_content": null,
            "visibility": null,
            "align_self": null,
            "height": null,
            "min_height": null,
            "padding": null,
            "grid_auto_rows": null,
            "grid_gap": null,
            "max_width": null,
            "order": null,
            "_view_module_version": "1.2.0",
            "grid_template_areas": null,
            "object_position": null,
            "object_fit": null,
            "grid_auto_columns": null,
            "margin": null,
            "display": null,
            "left": null
          }
        },
        "2fa8b732700e4f06878d28dfaa5832fe": {
          "model_module": "@jupyter-widgets/controls",
          "model_name": "HTMLModel",
          "model_module_version": "1.5.0",
          "state": {
            "_view_name": "HTMLView",
            "style": "IPY_MODEL_070cc3e947514c5c8ebed49dce97f0d0",
            "_dom_classes": [],
            "description": "",
            "_model_name": "HTMLModel",
            "placeholder": "​",
            "_view_module": "@jupyter-widgets/controls",
            "_model_module_version": "1.5.0",
            "value": "",
            "_view_count": null,
            "_view_module_version": "1.5.0",
            "description_tooltip": null,
            "_model_module": "@jupyter-widgets/controls",
            "layout": "IPY_MODEL_c27802b8a95841109e33704151d6562c"
          }
        },
        "93ecfd49d44f45608b7fb7016d9ac49c": {
          "model_module": "@jupyter-widgets/controls",
          "model_name": "FloatProgressModel",
          "model_module_version": "1.5.0",
          "state": {
            "_view_name": "ProgressView",
            "style": "IPY_MODEL_3573b3b597be48f892b46551bee46fe9",
            "_dom_classes": [],
            "description": "",
            "_model_name": "FloatProgressModel",
            "bar_style": "success",
            "max": 28881,
            "_view_module": "@jupyter-widgets/controls",
            "_model_module_version": "1.5.0",
            "value": 28881,
            "_view_count": null,
            "_view_module_version": "1.5.0",
            "orientation": "horizontal",
            "min": 0,
            "description_tooltip": null,
            "_model_module": "@jupyter-widgets/controls",
            "layout": "IPY_MODEL_9266ad6ff0084505918c67a4114a9664"
          }
        },
        "aeb000246bca4d708712fd1668d5efa1": {
          "model_module": "@jupyter-widgets/controls",
          "model_name": "HTMLModel",
          "model_module_version": "1.5.0",
          "state": {
            "_view_name": "HTMLView",
            "style": "IPY_MODEL_66f0f8d431ba4e72b674fd20c5216c6e",
            "_dom_classes": [],
            "description": "",
            "_model_name": "HTMLModel",
            "placeholder": "​",
            "_view_module": "@jupyter-widgets/controls",
            "_model_module_version": "1.5.0",
            "value": " 29696/? [00:00&lt;00:00, 797385.78it/s]",
            "_view_count": null,
            "_view_module_version": "1.5.0",
            "description_tooltip": null,
            "_model_module": "@jupyter-widgets/controls",
            "layout": "IPY_MODEL_5920229bf97449ab8153c603e9eb48d0"
          }
        },
        "070cc3e947514c5c8ebed49dce97f0d0": {
          "model_module": "@jupyter-widgets/controls",
          "model_name": "DescriptionStyleModel",
          "model_module_version": "1.5.0",
          "state": {
            "_view_name": "StyleView",
            "_model_name": "DescriptionStyleModel",
            "description_width": "",
            "_view_module": "@jupyter-widgets/base",
            "_model_module_version": "1.5.0",
            "_view_count": null,
            "_view_module_version": "1.2.0",
            "_model_module": "@jupyter-widgets/controls"
          }
        },
        "c27802b8a95841109e33704151d6562c": {
          "model_module": "@jupyter-widgets/base",
          "model_name": "LayoutModel",
          "model_module_version": "1.2.0",
          "state": {
            "_view_name": "LayoutView",
            "grid_template_rows": null,
            "right": null,
            "justify_content": null,
            "_view_module": "@jupyter-widgets/base",
            "overflow": null,
            "_model_module_version": "1.2.0",
            "_view_count": null,
            "flex_flow": null,
            "width": null,
            "min_width": null,
            "border": null,
            "align_items": null,
            "bottom": null,
            "_model_module": "@jupyter-widgets/base",
            "top": null,
            "grid_column": null,
            "overflow_y": null,
            "overflow_x": null,
            "grid_auto_flow": null,
            "grid_area": null,
            "grid_template_columns": null,
            "flex": null,
            "_model_name": "LayoutModel",
            "justify_items": null,
            "grid_row": null,
            "max_height": null,
            "align_content": null,
            "visibility": null,
            "align_self": null,
            "height": null,
            "min_height": null,
            "padding": null,
            "grid_auto_rows": null,
            "grid_gap": null,
            "max_width": null,
            "order": null,
            "_view_module_version": "1.2.0",
            "grid_template_areas": null,
            "object_position": null,
            "object_fit": null,
            "grid_auto_columns": null,
            "margin": null,
            "display": null,
            "left": null
          }
        },
        "3573b3b597be48f892b46551bee46fe9": {
          "model_module": "@jupyter-widgets/controls",
          "model_name": "ProgressStyleModel",
          "model_module_version": "1.5.0",
          "state": {
            "_view_name": "StyleView",
            "_model_name": "ProgressStyleModel",
            "description_width": "",
            "_view_module": "@jupyter-widgets/base",
            "_model_module_version": "1.5.0",
            "_view_count": null,
            "_view_module_version": "1.2.0",
            "bar_color": null,
            "_model_module": "@jupyter-widgets/controls"
          }
        },
        "9266ad6ff0084505918c67a4114a9664": {
          "model_module": "@jupyter-widgets/base",
          "model_name": "LayoutModel",
          "model_module_version": "1.2.0",
          "state": {
            "_view_name": "LayoutView",
            "grid_template_rows": null,
            "right": null,
            "justify_content": null,
            "_view_module": "@jupyter-widgets/base",
            "overflow": null,
            "_model_module_version": "1.2.0",
            "_view_count": null,
            "flex_flow": null,
            "width": null,
            "min_width": null,
            "border": null,
            "align_items": null,
            "bottom": null,
            "_model_module": "@jupyter-widgets/base",
            "top": null,
            "grid_column": null,
            "overflow_y": null,
            "overflow_x": null,
            "grid_auto_flow": null,
            "grid_area": null,
            "grid_template_columns": null,
            "flex": null,
            "_model_name": "LayoutModel",
            "justify_items": null,
            "grid_row": null,
            "max_height": null,
            "align_content": null,
            "visibility": null,
            "align_self": null,
            "height": null,
            "min_height": null,
            "padding": null,
            "grid_auto_rows": null,
            "grid_gap": null,
            "max_width": null,
            "order": null,
            "_view_module_version": "1.2.0",
            "grid_template_areas": null,
            "object_position": null,
            "object_fit": null,
            "grid_auto_columns": null,
            "margin": null,
            "display": null,
            "left": null
          }
        },
        "66f0f8d431ba4e72b674fd20c5216c6e": {
          "model_module": "@jupyter-widgets/controls",
          "model_name": "DescriptionStyleModel",
          "model_module_version": "1.5.0",
          "state": {
            "_view_name": "StyleView",
            "_model_name": "DescriptionStyleModel",
            "description_width": "",
            "_view_module": "@jupyter-widgets/base",
            "_model_module_version": "1.5.0",
            "_view_count": null,
            "_view_module_version": "1.2.0",
            "_model_module": "@jupyter-widgets/controls"
          }
        },
        "5920229bf97449ab8153c603e9eb48d0": {
          "model_module": "@jupyter-widgets/base",
          "model_name": "LayoutModel",
          "model_module_version": "1.2.0",
          "state": {
            "_view_name": "LayoutView",
            "grid_template_rows": null,
            "right": null,
            "justify_content": null,
            "_view_module": "@jupyter-widgets/base",
            "overflow": null,
            "_model_module_version": "1.2.0",
            "_view_count": null,
            "flex_flow": null,
            "width": null,
            "min_width": null,
            "border": null,
            "align_items": null,
            "bottom": null,
            "_model_module": "@jupyter-widgets/base",
            "top": null,
            "grid_column": null,
            "overflow_y": null,
            "overflow_x": null,
            "grid_auto_flow": null,
            "grid_area": null,
            "grid_template_columns": null,
            "flex": null,
            "_model_name": "LayoutModel",
            "justify_items": null,
            "grid_row": null,
            "max_height": null,
            "align_content": null,
            "visibility": null,
            "align_self": null,
            "height": null,
            "min_height": null,
            "padding": null,
            "grid_auto_rows": null,
            "grid_gap": null,
            "max_width": null,
            "order": null,
            "_view_module_version": "1.2.0",
            "grid_template_areas": null,
            "object_position": null,
            "object_fit": null,
            "grid_auto_columns": null,
            "margin": null,
            "display": null,
            "left": null
          }
        },
        "647eb3147a5e49b783048a9d99073889": {
          "model_module": "@jupyter-widgets/controls",
          "model_name": "HBoxModel",
          "model_module_version": "1.5.0",
          "state": {
            "_view_name": "HBoxView",
            "_dom_classes": [],
            "_model_name": "HBoxModel",
            "_view_module": "@jupyter-widgets/controls",
            "_model_module_version": "1.5.0",
            "_view_count": null,
            "_view_module_version": "1.5.0",
            "box_style": "",
            "layout": "IPY_MODEL_abd11810938a4f51b51e43d1940dff31",
            "_model_module": "@jupyter-widgets/controls",
            "children": [
              "IPY_MODEL_0cab2d7fb330430a8817ec2f576878e0",
              "IPY_MODEL_6bef20d9b8df472aad013abb87c39e92",
              "IPY_MODEL_d625f324007340ffb4195d1051b90704"
            ]
          }
        },
        "abd11810938a4f51b51e43d1940dff31": {
          "model_module": "@jupyter-widgets/base",
          "model_name": "LayoutModel",
          "model_module_version": "1.2.0",
          "state": {
            "_view_name": "LayoutView",
            "grid_template_rows": null,
            "right": null,
            "justify_content": null,
            "_view_module": "@jupyter-widgets/base",
            "overflow": null,
            "_model_module_version": "1.2.0",
            "_view_count": null,
            "flex_flow": null,
            "width": null,
            "min_width": null,
            "border": null,
            "align_items": null,
            "bottom": null,
            "_model_module": "@jupyter-widgets/base",
            "top": null,
            "grid_column": null,
            "overflow_y": null,
            "overflow_x": null,
            "grid_auto_flow": null,
            "grid_area": null,
            "grid_template_columns": null,
            "flex": null,
            "_model_name": "LayoutModel",
            "justify_items": null,
            "grid_row": null,
            "max_height": null,
            "align_content": null,
            "visibility": null,
            "align_self": null,
            "height": null,
            "min_height": null,
            "padding": null,
            "grid_auto_rows": null,
            "grid_gap": null,
            "max_width": null,
            "order": null,
            "_view_module_version": "1.2.0",
            "grid_template_areas": null,
            "object_position": null,
            "object_fit": null,
            "grid_auto_columns": null,
            "margin": null,
            "display": null,
            "left": null
          }
        },
        "0cab2d7fb330430a8817ec2f576878e0": {
          "model_module": "@jupyter-widgets/controls",
          "model_name": "HTMLModel",
          "model_module_version": "1.5.0",
          "state": {
            "_view_name": "HTMLView",
            "style": "IPY_MODEL_c2893d7e926b4224bbbac7cffabfada5",
            "_dom_classes": [],
            "description": "",
            "_model_name": "HTMLModel",
            "placeholder": "​",
            "_view_module": "@jupyter-widgets/controls",
            "_model_module_version": "1.5.0",
            "value": "",
            "_view_count": null,
            "_view_module_version": "1.5.0",
            "description_tooltip": null,
            "_model_module": "@jupyter-widgets/controls",
            "layout": "IPY_MODEL_93cdb3cb31df4c7abdb6d5d8958f49fb"
          }
        },
        "6bef20d9b8df472aad013abb87c39e92": {
          "model_module": "@jupyter-widgets/controls",
          "model_name": "FloatProgressModel",
          "model_module_version": "1.5.0",
          "state": {
            "_view_name": "ProgressView",
            "style": "IPY_MODEL_76abb8b1c5fe4c138f19d73b3ad039ed",
            "_dom_classes": [],
            "description": "",
            "_model_name": "FloatProgressModel",
            "bar_style": "success",
            "max": 1648877,
            "_view_module": "@jupyter-widgets/controls",
            "_model_module_version": "1.5.0",
            "value": 1648877,
            "_view_count": null,
            "_view_module_version": "1.5.0",
            "orientation": "horizontal",
            "min": 0,
            "description_tooltip": null,
            "_model_module": "@jupyter-widgets/controls",
            "layout": "IPY_MODEL_13eb9f9e4e4c480cb87ee18e7aa3edb9"
          }
        },
        "d625f324007340ffb4195d1051b90704": {
          "model_module": "@jupyter-widgets/controls",
          "model_name": "HTMLModel",
          "model_module_version": "1.5.0",
          "state": {
            "_view_name": "HTMLView",
            "style": "IPY_MODEL_07ace292f7b145cdb7017c223a8de42f",
            "_dom_classes": [],
            "description": "",
            "_model_name": "HTMLModel",
            "placeholder": "​",
            "_view_module": "@jupyter-widgets/controls",
            "_model_module_version": "1.5.0",
            "value": " 1649664/? [00:00&lt;00:00, 6862397.52it/s]",
            "_view_count": null,
            "_view_module_version": "1.5.0",
            "description_tooltip": null,
            "_model_module": "@jupyter-widgets/controls",
            "layout": "IPY_MODEL_c1ff5f2c37dd4a7c8c0e0a0d968d9d8d"
          }
        },
        "c2893d7e926b4224bbbac7cffabfada5": {
          "model_module": "@jupyter-widgets/controls",
          "model_name": "DescriptionStyleModel",
          "model_module_version": "1.5.0",
          "state": {
            "_view_name": "StyleView",
            "_model_name": "DescriptionStyleModel",
            "description_width": "",
            "_view_module": "@jupyter-widgets/base",
            "_model_module_version": "1.5.0",
            "_view_count": null,
            "_view_module_version": "1.2.0",
            "_model_module": "@jupyter-widgets/controls"
          }
        },
        "93cdb3cb31df4c7abdb6d5d8958f49fb": {
          "model_module": "@jupyter-widgets/base",
          "model_name": "LayoutModel",
          "model_module_version": "1.2.0",
          "state": {
            "_view_name": "LayoutView",
            "grid_template_rows": null,
            "right": null,
            "justify_content": null,
            "_view_module": "@jupyter-widgets/base",
            "overflow": null,
            "_model_module_version": "1.2.0",
            "_view_count": null,
            "flex_flow": null,
            "width": null,
            "min_width": null,
            "border": null,
            "align_items": null,
            "bottom": null,
            "_model_module": "@jupyter-widgets/base",
            "top": null,
            "grid_column": null,
            "overflow_y": null,
            "overflow_x": null,
            "grid_auto_flow": null,
            "grid_area": null,
            "grid_template_columns": null,
            "flex": null,
            "_model_name": "LayoutModel",
            "justify_items": null,
            "grid_row": null,
            "max_height": null,
            "align_content": null,
            "visibility": null,
            "align_self": null,
            "height": null,
            "min_height": null,
            "padding": null,
            "grid_auto_rows": null,
            "grid_gap": null,
            "max_width": null,
            "order": null,
            "_view_module_version": "1.2.0",
            "grid_template_areas": null,
            "object_position": null,
            "object_fit": null,
            "grid_auto_columns": null,
            "margin": null,
            "display": null,
            "left": null
          }
        },
        "76abb8b1c5fe4c138f19d73b3ad039ed": {
          "model_module": "@jupyter-widgets/controls",
          "model_name": "ProgressStyleModel",
          "model_module_version": "1.5.0",
          "state": {
            "_view_name": "StyleView",
            "_model_name": "ProgressStyleModel",
            "description_width": "",
            "_view_module": "@jupyter-widgets/base",
            "_model_module_version": "1.5.0",
            "_view_count": null,
            "_view_module_version": "1.2.0",
            "bar_color": null,
            "_model_module": "@jupyter-widgets/controls"
          }
        },
        "13eb9f9e4e4c480cb87ee18e7aa3edb9": {
          "model_module": "@jupyter-widgets/base",
          "model_name": "LayoutModel",
          "model_module_version": "1.2.0",
          "state": {
            "_view_name": "LayoutView",
            "grid_template_rows": null,
            "right": null,
            "justify_content": null,
            "_view_module": "@jupyter-widgets/base",
            "overflow": null,
            "_model_module_version": "1.2.0",
            "_view_count": null,
            "flex_flow": null,
            "width": null,
            "min_width": null,
            "border": null,
            "align_items": null,
            "bottom": null,
            "_model_module": "@jupyter-widgets/base",
            "top": null,
            "grid_column": null,
            "overflow_y": null,
            "overflow_x": null,
            "grid_auto_flow": null,
            "grid_area": null,
            "grid_template_columns": null,
            "flex": null,
            "_model_name": "LayoutModel",
            "justify_items": null,
            "grid_row": null,
            "max_height": null,
            "align_content": null,
            "visibility": null,
            "align_self": null,
            "height": null,
            "min_height": null,
            "padding": null,
            "grid_auto_rows": null,
            "grid_gap": null,
            "max_width": null,
            "order": null,
            "_view_module_version": "1.2.0",
            "grid_template_areas": null,
            "object_position": null,
            "object_fit": null,
            "grid_auto_columns": null,
            "margin": null,
            "display": null,
            "left": null
          }
        },
        "07ace292f7b145cdb7017c223a8de42f": {
          "model_module": "@jupyter-widgets/controls",
          "model_name": "DescriptionStyleModel",
          "model_module_version": "1.5.0",
          "state": {
            "_view_name": "StyleView",
            "_model_name": "DescriptionStyleModel",
            "description_width": "",
            "_view_module": "@jupyter-widgets/base",
            "_model_module_version": "1.5.0",
            "_view_count": null,
            "_view_module_version": "1.2.0",
            "_model_module": "@jupyter-widgets/controls"
          }
        },
        "c1ff5f2c37dd4a7c8c0e0a0d968d9d8d": {
          "model_module": "@jupyter-widgets/base",
          "model_name": "LayoutModel",
          "model_module_version": "1.2.0",
          "state": {
            "_view_name": "LayoutView",
            "grid_template_rows": null,
            "right": null,
            "justify_content": null,
            "_view_module": "@jupyter-widgets/base",
            "overflow": null,
            "_model_module_version": "1.2.0",
            "_view_count": null,
            "flex_flow": null,
            "width": null,
            "min_width": null,
            "border": null,
            "align_items": null,
            "bottom": null,
            "_model_module": "@jupyter-widgets/base",
            "top": null,
            "grid_column": null,
            "overflow_y": null,
            "overflow_x": null,
            "grid_auto_flow": null,
            "grid_area": null,
            "grid_template_columns": null,
            "flex": null,
            "_model_name": "LayoutModel",
            "justify_items": null,
            "grid_row": null,
            "max_height": null,
            "align_content": null,
            "visibility": null,
            "align_self": null,
            "height": null,
            "min_height": null,
            "padding": null,
            "grid_auto_rows": null,
            "grid_gap": null,
            "max_width": null,
            "order": null,
            "_view_module_version": "1.2.0",
            "grid_template_areas": null,
            "object_position": null,
            "object_fit": null,
            "grid_auto_columns": null,
            "margin": null,
            "display": null,
            "left": null
          }
        },
        "ed0ecb24fe5947d7b523b7e107f0b3e0": {
          "model_module": "@jupyter-widgets/controls",
          "model_name": "HBoxModel",
          "model_module_version": "1.5.0",
          "state": {
            "_view_name": "HBoxView",
            "_dom_classes": [],
            "_model_name": "HBoxModel",
            "_view_module": "@jupyter-widgets/controls",
            "_model_module_version": "1.5.0",
            "_view_count": null,
            "_view_module_version": "1.5.0",
            "box_style": "",
            "layout": "IPY_MODEL_bbf8488bae3649eb82d4bed2fbee64fe",
            "_model_module": "@jupyter-widgets/controls",
            "children": [
              "IPY_MODEL_75314529ee1e47af83465b4523327825",
              "IPY_MODEL_16d90f5a75fb42f7b76d13040e2899c6",
              "IPY_MODEL_88da51d67229493a885182f789f814b6"
            ]
          }
        },
        "bbf8488bae3649eb82d4bed2fbee64fe": {
          "model_module": "@jupyter-widgets/base",
          "model_name": "LayoutModel",
          "model_module_version": "1.2.0",
          "state": {
            "_view_name": "LayoutView",
            "grid_template_rows": null,
            "right": null,
            "justify_content": null,
            "_view_module": "@jupyter-widgets/base",
            "overflow": null,
            "_model_module_version": "1.2.0",
            "_view_count": null,
            "flex_flow": null,
            "width": null,
            "min_width": null,
            "border": null,
            "align_items": null,
            "bottom": null,
            "_model_module": "@jupyter-widgets/base",
            "top": null,
            "grid_column": null,
            "overflow_y": null,
            "overflow_x": null,
            "grid_auto_flow": null,
            "grid_area": null,
            "grid_template_columns": null,
            "flex": null,
            "_model_name": "LayoutModel",
            "justify_items": null,
            "grid_row": null,
            "max_height": null,
            "align_content": null,
            "visibility": null,
            "align_self": null,
            "height": null,
            "min_height": null,
            "padding": null,
            "grid_auto_rows": null,
            "grid_gap": null,
            "max_width": null,
            "order": null,
            "_view_module_version": "1.2.0",
            "grid_template_areas": null,
            "object_position": null,
            "object_fit": null,
            "grid_auto_columns": null,
            "margin": null,
            "display": null,
            "left": null
          }
        },
        "75314529ee1e47af83465b4523327825": {
          "model_module": "@jupyter-widgets/controls",
          "model_name": "HTMLModel",
          "model_module_version": "1.5.0",
          "state": {
            "_view_name": "HTMLView",
            "style": "IPY_MODEL_2c05aa7726674d0da346cd7dc4f9c09b",
            "_dom_classes": [],
            "description": "",
            "_model_name": "HTMLModel",
            "placeholder": "​",
            "_view_module": "@jupyter-widgets/controls",
            "_model_module_version": "1.5.0",
            "value": "",
            "_view_count": null,
            "_view_module_version": "1.5.0",
            "description_tooltip": null,
            "_model_module": "@jupyter-widgets/controls",
            "layout": "IPY_MODEL_fc786c1583de442688da7dd2b66db616"
          }
        },
        "16d90f5a75fb42f7b76d13040e2899c6": {
          "model_module": "@jupyter-widgets/controls",
          "model_name": "FloatProgressModel",
          "model_module_version": "1.5.0",
          "state": {
            "_view_name": "ProgressView",
            "style": "IPY_MODEL_e114874b4f0343609d107d24d38d91d8",
            "_dom_classes": [],
            "description": "",
            "_model_name": "FloatProgressModel",
            "bar_style": "success",
            "max": 4542,
            "_view_module": "@jupyter-widgets/controls",
            "_model_module_version": "1.5.0",
            "value": 4542,
            "_view_count": null,
            "_view_module_version": "1.5.0",
            "orientation": "horizontal",
            "min": 0,
            "description_tooltip": null,
            "_model_module": "@jupyter-widgets/controls",
            "layout": "IPY_MODEL_4a007eb48a5e46db91b57639f3637950"
          }
        },
        "88da51d67229493a885182f789f814b6": {
          "model_module": "@jupyter-widgets/controls",
          "model_name": "HTMLModel",
          "model_module_version": "1.5.0",
          "state": {
            "_view_name": "HTMLView",
            "style": "IPY_MODEL_0b7c44826a8446cab293313b364adaca",
            "_dom_classes": [],
            "description": "",
            "_model_name": "HTMLModel",
            "placeholder": "​",
            "_view_module": "@jupyter-widgets/controls",
            "_model_module_version": "1.5.0",
            "value": " 5120/? [00:00&lt;00:00, 144731.57it/s]",
            "_view_count": null,
            "_view_module_version": "1.5.0",
            "description_tooltip": null,
            "_model_module": "@jupyter-widgets/controls",
            "layout": "IPY_MODEL_31349c2994304aeb9b8bbd37a9fe5884"
          }
        },
        "2c05aa7726674d0da346cd7dc4f9c09b": {
          "model_module": "@jupyter-widgets/controls",
          "model_name": "DescriptionStyleModel",
          "model_module_version": "1.5.0",
          "state": {
            "_view_name": "StyleView",
            "_model_name": "DescriptionStyleModel",
            "description_width": "",
            "_view_module": "@jupyter-widgets/base",
            "_model_module_version": "1.5.0",
            "_view_count": null,
            "_view_module_version": "1.2.0",
            "_model_module": "@jupyter-widgets/controls"
          }
        },
        "fc786c1583de442688da7dd2b66db616": {
          "model_module": "@jupyter-widgets/base",
          "model_name": "LayoutModel",
          "model_module_version": "1.2.0",
          "state": {
            "_view_name": "LayoutView",
            "grid_template_rows": null,
            "right": null,
            "justify_content": null,
            "_view_module": "@jupyter-widgets/base",
            "overflow": null,
            "_model_module_version": "1.2.0",
            "_view_count": null,
            "flex_flow": null,
            "width": null,
            "min_width": null,
            "border": null,
            "align_items": null,
            "bottom": null,
            "_model_module": "@jupyter-widgets/base",
            "top": null,
            "grid_column": null,
            "overflow_y": null,
            "overflow_x": null,
            "grid_auto_flow": null,
            "grid_area": null,
            "grid_template_columns": null,
            "flex": null,
            "_model_name": "LayoutModel",
            "justify_items": null,
            "grid_row": null,
            "max_height": null,
            "align_content": null,
            "visibility": null,
            "align_self": null,
            "height": null,
            "min_height": null,
            "padding": null,
            "grid_auto_rows": null,
            "grid_gap": null,
            "max_width": null,
            "order": null,
            "_view_module_version": "1.2.0",
            "grid_template_areas": null,
            "object_position": null,
            "object_fit": null,
            "grid_auto_columns": null,
            "margin": null,
            "display": null,
            "left": null
          }
        },
        "e114874b4f0343609d107d24d38d91d8": {
          "model_module": "@jupyter-widgets/controls",
          "model_name": "ProgressStyleModel",
          "model_module_version": "1.5.0",
          "state": {
            "_view_name": "StyleView",
            "_model_name": "ProgressStyleModel",
            "description_width": "",
            "_view_module": "@jupyter-widgets/base",
            "_model_module_version": "1.5.0",
            "_view_count": null,
            "_view_module_version": "1.2.0",
            "bar_color": null,
            "_model_module": "@jupyter-widgets/controls"
          }
        },
        "4a007eb48a5e46db91b57639f3637950": {
          "model_module": "@jupyter-widgets/base",
          "model_name": "LayoutModel",
          "model_module_version": "1.2.0",
          "state": {
            "_view_name": "LayoutView",
            "grid_template_rows": null,
            "right": null,
            "justify_content": null,
            "_view_module": "@jupyter-widgets/base",
            "overflow": null,
            "_model_module_version": "1.2.0",
            "_view_count": null,
            "flex_flow": null,
            "width": null,
            "min_width": null,
            "border": null,
            "align_items": null,
            "bottom": null,
            "_model_module": "@jupyter-widgets/base",
            "top": null,
            "grid_column": null,
            "overflow_y": null,
            "overflow_x": null,
            "grid_auto_flow": null,
            "grid_area": null,
            "grid_template_columns": null,
            "flex": null,
            "_model_name": "LayoutModel",
            "justify_items": null,
            "grid_row": null,
            "max_height": null,
            "align_content": null,
            "visibility": null,
            "align_self": null,
            "height": null,
            "min_height": null,
            "padding": null,
            "grid_auto_rows": null,
            "grid_gap": null,
            "max_width": null,
            "order": null,
            "_view_module_version": "1.2.0",
            "grid_template_areas": null,
            "object_position": null,
            "object_fit": null,
            "grid_auto_columns": null,
            "margin": null,
            "display": null,
            "left": null
          }
        },
        "0b7c44826a8446cab293313b364adaca": {
          "model_module": "@jupyter-widgets/controls",
          "model_name": "DescriptionStyleModel",
          "model_module_version": "1.5.0",
          "state": {
            "_view_name": "StyleView",
            "_model_name": "DescriptionStyleModel",
            "description_width": "",
            "_view_module": "@jupyter-widgets/base",
            "_model_module_version": "1.5.0",
            "_view_count": null,
            "_view_module_version": "1.2.0",
            "_model_module": "@jupyter-widgets/controls"
          }
        },
        "31349c2994304aeb9b8bbd37a9fe5884": {
          "model_module": "@jupyter-widgets/base",
          "model_name": "LayoutModel",
          "model_module_version": "1.2.0",
          "state": {
            "_view_name": "LayoutView",
            "grid_template_rows": null,
            "right": null,
            "justify_content": null,
            "_view_module": "@jupyter-widgets/base",
            "overflow": null,
            "_model_module_version": "1.2.0",
            "_view_count": null,
            "flex_flow": null,
            "width": null,
            "min_width": null,
            "border": null,
            "align_items": null,
            "bottom": null,
            "_model_module": "@jupyter-widgets/base",
            "top": null,
            "grid_column": null,
            "overflow_y": null,
            "overflow_x": null,
            "grid_auto_flow": null,
            "grid_area": null,
            "grid_template_columns": null,
            "flex": null,
            "_model_name": "LayoutModel",
            "justify_items": null,
            "grid_row": null,
            "max_height": null,
            "align_content": null,
            "visibility": null,
            "align_self": null,
            "height": null,
            "min_height": null,
            "padding": null,
            "grid_auto_rows": null,
            "grid_gap": null,
            "max_width": null,
            "order": null,
            "_view_module_version": "1.2.0",
            "grid_template_areas": null,
            "object_position": null,
            "object_fit": null,
            "grid_auto_columns": null,
            "margin": null,
            "display": null,
            "left": null
          }
        }
      }
    }
  },
  "cells": [
    {
      "cell_type": "markdown",
      "metadata": {
        "id": "view-in-github"
      },
      "source": [
        "<a href=\"https://colab.research.google.com/github/CIS-522/course-content/blob/main/tutorials/W05_Regularization/W5_Homework.ipynb\" target=\"_parent\"><img src=\"https://colab.research.google.com/assets/colab-badge.svg\" alt=\"Open In Colab\"/></a>"
      ]
    },
    {
      "cell_type": "markdown",
      "metadata": {
        "id": "ZhzzdfoH8O34"
      },
      "source": [
        "# CIS-522 Homework 4\n",
        "\n",
        "\n",
        "**Instructor:** Lyle Ungar\n",
        "\n",
        "**Content Creators:** Jordan Lei\n",
        "\n",
        "**Content Reviewers:** Kavish Shah, Ann-Katrin Reuel\n"
      ]
    },
    {
      "cell_type": "code",
      "metadata": {
        "id": "R_VqTwG09NEn",
        "cellView": "form"
      },
      "source": [
        "#@markdown What is your Pennkey and pod? (text, not numbers, e.g. bfranklin)\n",
        "my_pennkey = '' #@param {type:\"string\"}\n",
        "my_pod = 'Select' #@param ['Select', 'upain', 'ah-damn-optimizer', 'backpropagandists', 'backpropers','excel-erators','GAN-gsters','han-not-solo','hufflefluffs','lets-taco-bout-it','natural-networkers','pytorture','sigmoids','strong-signals','the-denominators','the-travellers', 'the-weekenders', 'tomorrows-incredibles', 'brute-force']\n",
        "my_email = '' #@param {type:\"string\"}\n",
        "\n",
        "\n",
        "# start timing\n",
        "import time\n",
        "try:t0;\n",
        "except NameError: t0 = time.time()\n"
      ],
      "execution_count": 2,
      "outputs": []
    },
    {
      "cell_type": "code",
      "metadata": {
        "id": "MPBNHacqXkrC",
        "cellView": "form",
        "colab": {
          "base_uri": "https://localhost:8080/"
        },
        "outputId": "fcc74dbd-1cff-4248-dad8-23490899ca51"
      },
      "source": [
        "#@markdown Run this cell for imports. It should print \"cuda\"\n",
        "#@markdown \n",
        "from __future__ import print_function\n",
        "import torch\n",
        "import pathlib\n",
        "import torch.nn as nn\n",
        "import torch.nn.functional as F\n",
        "import torch.optim as optim\n",
        "from torchvision import datasets, transforms\n",
        "from torchvision.datasets import ImageFolder\n",
        "from torch.utils.data import DataLoader, TensorDataset\n",
        "import time\n",
        "import numpy as np\n",
        "import matplotlib.pyplot as plt\n",
        "import copy\n",
        "\n",
        "torch.manual_seed(2021)\n",
        "device = torch.device(\"cuda\" if torch.cuda.is_available() else \"cpu\")\n",
        "print(device)"
      ],
      "execution_count": 3,
      "outputs": [
        {
          "output_type": "stream",
          "name": "stdout",
          "text": [
            "cuda\n"
          ]
        }
      ]
    },
    {
      "cell_type": "markdown",
      "metadata": {
        "id": "0qzHTBpz9hy4"
      },
      "source": [
        "# Part 1. Attack!\n",
        "In this homework, you will implement a simple adversarial attack on a neural network trained on MNIST handwritten digits. It might sound complicated, but we'll guide you through it. First, let's download and familiarize ourselves with the dataset. \n",
        "\n",
        "**Run the cell below. Do not modify.**\n"
      ]
    },
    {
      "cell_type": "code",
      "metadata": {
        "id": "EQAEcBpEXsAf",
        "colab": {
          "base_uri": "https://localhost:8080/",
          "height": 682,
          "referenced_widgets": [
            "8921bec6ba1f4c87b5a0663cc13f2479",
            "76c8e20dff1243258881bf2b77b9905f",
            "0a749066798d4599aef904f6d66de08d",
            "4d95e5b28cbf4ff69089aef22baacf57",
            "c80e1a2d47ca4458b4a13e3804b40428",
            "ef5a8c6d09d349e5b7eb83ef62bb8d7b",
            "a9a5648b4a404e7d8224a6cbf420c014",
            "9c4567f157b24364837a2c93bf8461e0",
            "15483085d02545eba56c41a9d031df94",
            "33ef39d4ee69443aa516ab9699c47d93",
            "40d12311a4b44a8ca93b09abbd0e7a65",
            "50818b966616460a9d4ae69cc491a9f1",
            "84b59398e3a3447281b7435958143a1e",
            "2fa8b732700e4f06878d28dfaa5832fe",
            "93ecfd49d44f45608b7fb7016d9ac49c",
            "aeb000246bca4d708712fd1668d5efa1",
            "070cc3e947514c5c8ebed49dce97f0d0",
            "c27802b8a95841109e33704151d6562c",
            "3573b3b597be48f892b46551bee46fe9",
            "9266ad6ff0084505918c67a4114a9664",
            "66f0f8d431ba4e72b674fd20c5216c6e",
            "5920229bf97449ab8153c603e9eb48d0",
            "647eb3147a5e49b783048a9d99073889",
            "abd11810938a4f51b51e43d1940dff31",
            "0cab2d7fb330430a8817ec2f576878e0",
            "6bef20d9b8df472aad013abb87c39e92",
            "d625f324007340ffb4195d1051b90704",
            "c2893d7e926b4224bbbac7cffabfada5",
            "93cdb3cb31df4c7abdb6d5d8958f49fb",
            "76abb8b1c5fe4c138f19d73b3ad039ed",
            "13eb9f9e4e4c480cb87ee18e7aa3edb9",
            "07ace292f7b145cdb7017c223a8de42f",
            "c1ff5f2c37dd4a7c8c0e0a0d968d9d8d",
            "ed0ecb24fe5947d7b523b7e107f0b3e0",
            "bbf8488bae3649eb82d4bed2fbee64fe",
            "75314529ee1e47af83465b4523327825",
            "16d90f5a75fb42f7b76d13040e2899c6",
            "88da51d67229493a885182f789f814b6",
            "2c05aa7726674d0da346cd7dc4f9c09b",
            "fc786c1583de442688da7dd2b66db616",
            "e114874b4f0343609d107d24d38d91d8",
            "4a007eb48a5e46db91b57639f3637950",
            "0b7c44826a8446cab293313b364adaca",
            "31349c2994304aeb9b8bbd37a9fe5884"
          ]
        },
        "outputId": "c5e4c63a-c9d6-4b75-d594-c881130664e0"
      },
      "source": [
        "dataset = datasets.MNIST(\"/content/\", download = True, train = True, transform = transforms.ToTensor())\n",
        "\n",
        "len_train = int(0.8 * len(dataset))\n",
        "len_val = len(dataset) - len_train\n",
        "train_dataset, val_dataset = torch.utils.data.random_split(dataset, [len_train, len_val])\n",
        "\n",
        "#train_loader is the data loader containing the training samples\n",
        "train_loader = DataLoader(train_dataset, batch_size = 64, shuffle = True)\n",
        "#val_loader is the data loader containing the validation samples\n",
        "val_loader = DataLoader(val_dataset, batch_size = 64, shuffle = True)\n",
        "\n",
        "#visualize one of the elements\n",
        "base_image = dataset[0][0].reshape(1, 784)\n",
        "plt.imshow(base_image.reshape(28, 28).numpy())\n",
        "plt.show()\n",
        "print(\"Above, I have an image with the corresponding label:\", dataset[0][1])"
      ],
      "execution_count": 4,
      "outputs": [
        {
          "output_type": "stream",
          "name": "stdout",
          "text": [
            "Downloading http://yann.lecun.com/exdb/mnist/train-images-idx3-ubyte.gz\n",
            "Downloading http://yann.lecun.com/exdb/mnist/train-images-idx3-ubyte.gz to /content/MNIST/raw/train-images-idx3-ubyte.gz\n"
          ]
        },
        {
          "output_type": "display_data",
          "data": {
            "application/vnd.jupyter.widget-view+json": {
              "model_id": "8921bec6ba1f4c87b5a0663cc13f2479",
              "version_minor": 0,
              "version_major": 2
            },
            "text/plain": [
              "  0%|          | 0/9912422 [00:00<?, ?it/s]"
            ]
          },
          "metadata": {}
        },
        {
          "output_type": "stream",
          "name": "stdout",
          "text": [
            "Extracting /content/MNIST/raw/train-images-idx3-ubyte.gz to /content/MNIST/raw\n",
            "\n",
            "Downloading http://yann.lecun.com/exdb/mnist/train-labels-idx1-ubyte.gz\n",
            "Downloading http://yann.lecun.com/exdb/mnist/train-labels-idx1-ubyte.gz to /content/MNIST/raw/train-labels-idx1-ubyte.gz\n"
          ]
        },
        {
          "output_type": "display_data",
          "data": {
            "application/vnd.jupyter.widget-view+json": {
              "model_id": "50818b966616460a9d4ae69cc491a9f1",
              "version_minor": 0,
              "version_major": 2
            },
            "text/plain": [
              "  0%|          | 0/28881 [00:00<?, ?it/s]"
            ]
          },
          "metadata": {}
        },
        {
          "output_type": "stream",
          "name": "stdout",
          "text": [
            "Extracting /content/MNIST/raw/train-labels-idx1-ubyte.gz to /content/MNIST/raw\n",
            "\n",
            "Downloading http://yann.lecun.com/exdb/mnist/t10k-images-idx3-ubyte.gz\n",
            "Downloading http://yann.lecun.com/exdb/mnist/t10k-images-idx3-ubyte.gz to /content/MNIST/raw/t10k-images-idx3-ubyte.gz\n"
          ]
        },
        {
          "output_type": "display_data",
          "data": {
            "application/vnd.jupyter.widget-view+json": {
              "model_id": "647eb3147a5e49b783048a9d99073889",
              "version_minor": 0,
              "version_major": 2
            },
            "text/plain": [
              "  0%|          | 0/1648877 [00:00<?, ?it/s]"
            ]
          },
          "metadata": {}
        },
        {
          "output_type": "stream",
          "name": "stdout",
          "text": [
            "Extracting /content/MNIST/raw/t10k-images-idx3-ubyte.gz to /content/MNIST/raw\n",
            "\n",
            "Downloading http://yann.lecun.com/exdb/mnist/t10k-labels-idx1-ubyte.gz\n",
            "Downloading http://yann.lecun.com/exdb/mnist/t10k-labels-idx1-ubyte.gz to /content/MNIST/raw/t10k-labels-idx1-ubyte.gz\n"
          ]
        },
        {
          "output_type": "display_data",
          "data": {
            "application/vnd.jupyter.widget-view+json": {
              "model_id": "ed0ecb24fe5947d7b523b7e107f0b3e0",
              "version_minor": 0,
              "version_major": 2
            },
            "text/plain": [
              "  0%|          | 0/4542 [00:00<?, ?it/s]"
            ]
          },
          "metadata": {}
        },
        {
          "output_type": "stream",
          "name": "stdout",
          "text": [
            "Extracting /content/MNIST/raw/t10k-labels-idx1-ubyte.gz to /content/MNIST/raw\n",
            "\n"
          ]
        },
        {
          "output_type": "display_data",
          "data": {
            "image/png": "[encoded data removed]",
            "text/plain": [
              "<Figure size 432x288 with 1 Axes>"
            ]
          },
          "metadata": {
            "needs_background": "light"
          }
        },
        {
          "output_type": "stream",
          "name": "stdout",
          "text": [
            "Above, I have an image with the corresponding label: 5\n"
          ]
        }
      ]
    },
    {
      "cell_type": "markdown",
      "metadata": {
        "id": "o6FxzcrN_gvi"
      },
      "source": [
        "## 1.1 Network\n",
        "MNIST digits come in images of size 28 x 28, and have an output of size 10. Let's construct a simple feedforward network with a *single hidden layer of size 64*. That is, our network should be shape *input --> 64 --> output*, with ReLU activations after each layer.\n",
        "\n",
        "**Your turn. Fill in the missing parts of the network definition. Don't forget to define a forward() function.**"
      ]
    },
    {
      "cell_type": "code",
      "metadata": {
        "id": "9ujcd6N4cXNU"
      },
      "source": [
        "class Net1(nn.Module): \n",
        "    ..."
      ],
      "execution_count": 5,
      "outputs": []
    },
    {
      "cell_type": "markdown",
      "metadata": {
        "id": "8I07IF7uBoyn"
      },
      "source": [
        "## 1.2 Define Functions\n",
        "Now we want to define `train` and `test` functions to train and test our network, respectively. Fill in the \"TODO\" sections below for the train and test functions. \n",
        "\n",
        "**Your turn. Fill in the missing parts of the `train` and `test` functions. Don't forget to zero out the gradients, reshape the MNIST images and send them to the GPU for processing.**\n"
      ]
    },
    {
      "cell_type": "code",
      "metadata": {
        "id": "9flZGP5jdtKX"
      },
      "source": [
        "def train(train_loader, net, optimizer, criterion, epochs = 10):\n",
        "  for epoch in range(epochs): \n",
        "    c = 0\n",
        "    total_loss = 0\n",
        "    total_correct = 0\n",
        "    for i, (image, label) in enumerate(train_loader):\n",
        "      #TODO: complete the training function (zero out gradients, reshape MNIST images)\n",
        "      ...\n",
        "      ...\n",
        "      ...\n",
        "\n",
        "      #TODO: define prediction\n",
        "      prediction = ...\n",
        "\n",
        "      #calculate the loss\n",
        "      loss = ... \n",
        "      \n",
        "      #TODO: complete the training function\n",
        "      ...\n",
        "      ...\n",
        "\n",
        "      #TODO: define the predicted class\n",
        "      predicted_class = ...\n",
        "\n",
        "      correct = torch.sum((predicted_class == label))\n",
        "      total_loss += loss\n",
        "      total_correct += correct\n",
        "      c += len(label)\n",
        "\n",
        "      if i%500 == 0:\n",
        "        print(\"[Epoch %s]\\tAcc:%.4f\\tLoss:%.4f\"%(epoch, (total_correct/c).item(), (total_loss/c).item()))\n",
        "\n",
        "\n",
        "def test(test_loader, net, criterion): \n",
        "  c = 0\n",
        "  total_loss = 0\n",
        "  total_correct = 0\n",
        "  for i, (image, label) in enumerate(test_loader):\n",
        "    #TODO: reshape images and send them to the GPU as above \n",
        "    ...\n",
        "    ...\n",
        "    #TODO: use your network to make a prediction\n",
        "    prediction = ... \n",
        "\n",
        "    #TODO: calculate the loss \n",
        "    loss = ...\n",
        "    \n",
        "    #TODO: complete the code\n",
        "    predicted_class = ...\n",
        "\n",
        "    total_loss += loss.item()\n",
        "    total_correct += torch.sum((predicted_class == label)).item()\n",
        "    c += len(label)\n",
        "\n",
        "  return total_loss/c, total_correct/c"
      ],
      "execution_count": 6,
      "outputs": []
    },
    {
      "cell_type": "markdown",
      "metadata": {
        "id": "xnSgXRsZC2tE"
      },
      "source": [
        "## 1.3 Train the Network\n",
        "Now let's train the network. Define the following: \n",
        "* `net`: initialize the network with the `Net1` class. Make sure you send the network to cuda!\n",
        "* `optimizer`: use an Adam optimizer with learning rate 0.01, and initialize it with your network parameters.\n",
        "* `criterion`: choose a good criterion for this task. Consider looking at: https://pytorch.org/docs/stable/nn.html#loss-function. \n",
        "\n",
        "**Your turn. Define the net, optimizer, and criterion. Don't forget to send the net to the device.**"
      ]
    },
    {
      "cell_type": "code",
      "metadata": {
        "id": "H-NzkD3reJBU"
      },
      "source": [
        "#TODO: define net, send it to device\n",
        "net = ... \n",
        "#TODO: define optimizer\n",
        "optimizer = ... \n",
        "#TODO: choose a good criterion\n",
        "criterion = ... \n",
        "\n",
        "train(train_loader, net, optimizer, criterion)\n",
        "loss, accuracy = test(val_loader, net, criterion)\n",
        "print(\"Evaluation\\n\\tTest Loss: %.4f\\tTest Accuracy: %.2f%%\"%(loss, accuracy*100))"
      ],
      "execution_count": null,
      "outputs": []
    },
    {
      "cell_type": "markdown",
      "metadata": {
        "id": "Mvd1KRvsD0kR"
      },
      "source": [
        "## 1.4 How Did We Do? \n",
        "Confirm that your test loss above is exactly `0.0027` and your Test Accuracy is exactly `96.53%`. Don't move on until you confirm this is the case; if you get stuck, feel free to phone a friend or your friendly neighborhood pod leader.\n",
        "\n",
        "Now let's see how our network performs on the image we showed above! Run the cell below. \n",
        "**Run the cell below. Do not modify**"
      ]
    },
    {
      "cell_type": "code",
      "metadata": {
        "id": "hPdKnz0jqwv3"
      },
      "source": [
        "base_image = dataset[0][0].reshape(1, 784)\n",
        "plt.imshow(base_image.reshape(28, 28).numpy())\n",
        "plt.show()\n",
        "net_prediction = torch.argmax(net(base_image.to(device))).item()\n",
        "print(\"My Network Predicts That This Number Is... %s\"%(net_prediction))"
      ],
      "execution_count": null,
      "outputs": []
    },
    {
      "cell_type": "markdown",
      "metadata": {
        "id": "Pgl5l7zgEniR"
      },
      "source": [
        "## 1.5 Adversarial Attack\n",
        "Now for the fun part. Let's attack our network by creating an image that looks almost exactly like the one above, but makes it mistake the digit for a 3! How do we do that? \n",
        "\n",
        "Here's one way of doing it: instead of updating the **weights of our network**, what if we updated the **pixels of our image** using gradient descent? Take a moment to read that again. We're going to require gradients on our **image**, and then update it until the network is properly fooled!\n",
        "\n",
        "Our problem is complex though. We have two goals: \n",
        "\n",
        "\n",
        "1.   `criterion_1`: We want to fool the network into thinking that the image is a 3, not a 5. \n",
        "2.   `criterion_2`: We want to make sure the modified image `mod_image` looks as much like the original `base_image` as possible.\n",
        "\n",
        "Our loss will be a weighted sum between the losses evaluated on these two criteria, i.e. `loss = weight_1 * loss_1 + weight_2 * loss_2`. For our code below, let `weight_1 = 0.001` and `weight_2 = 1`.\n",
        "\n",
        "**Your turn. Define `criterion_1`, `criterion_2`, `loss_1`, `loss_2`, and `loss`. Run the code; if your attack is successful it will print \"ATTACK SUCCESSFUL\"**\n",
        "\n",
        "\n"
      ]
    },
    {
      "cell_type": "code",
      "metadata": {
        "id": "TfMq1XOmrWja"
      },
      "source": [
        "#create a copy of base_image which we can modify\n",
        "mod_image = base_image.clone() \n",
        "#our target class is 3. We send this to the device\n",
        "target = torch.LongTensor([3]).to(device)\n",
        "optimizer = optim.SGD([mod_image.requires_grad_(True)], lr = 0.01)\n",
        "\n",
        "#Choose a good criterion to compare our prediction with the target\n",
        "criterion1 = ... \n",
        "\n",
        "#Choose a good criterion which describes how \"far off\" our mod_image\n",
        "#is from the base_image\n",
        "criterion2 = ... #TODO: choose criterion2\n",
        "\n",
        "\n",
        "for i in range(10000):\n",
        "  prediction = net(mod_image.to(device))\n",
        "\n",
        "  #loss_1 is the result of evaluating criterion_1 on the prediction of the net\n",
        "  #compared to the target class.\n",
        "  loss_1 = ... #TODO: define loss_1\n",
        "\n",
        "  #loss_2 is the result of evaluating criterion_2 on the current image\n",
        "  #(mod_image) compared to the original image (base_image).\n",
        "  loss_2 = ... #TODO: define loss_2\n",
        "\n",
        "  #the final loss is a weighted sum of the losses, where weight_1 = 0.001 and weight_2 = 1\n",
        "  loss = ... #TODO: define loss\n",
        "  \n",
        "  ... #complete the training\n",
        "\n",
        "  predicted_class = ...\n",
        "\n",
        "  if predicted_class == target:\n",
        "    print(\"Predicted Class: %s, Loss: %s, ATTACK SUCCESSFUL!\"%(predicted_class.item(), loss.item()))\n",
        "    break\n",
        "  else:\n",
        "    if i%10 == 0: \n",
        "      print(\"Predicted Class: %s, Loss: %s\"%(predicted_class.item(), loss.item()))"
      ],
      "execution_count": null,
      "outputs": []
    },
    {
      "cell_type": "markdown",
      "metadata": {
        "id": "RXk8bNKbSK6A"
      },
      "source": [
        "So what does our image look like now? Run the cell below to compare the original input to the modified image, and how our network classifies each. Did we succeed?\n",
        "\n",
        "**Take a screenshot of the output of this cell and save it for later.**"
      ]
    },
    {
      "cell_type": "code",
      "metadata": {
        "cellView": "form",
        "id": "-K_6lmVTub3z"
      },
      "source": [
        "#@markdown Run this cell to display your adversarial attack!\n",
        "net.eval()\n",
        "plt.imshow(base_image.reshape(28, 28).detach().numpy())\n",
        "plt.show()\n",
        "net_prediction = torch.argmax(net(base_image.to(device))).item()\n",
        "print(\"My Network Predicts That This Number Is... %s\"%(net_prediction))\n",
        "plt.imshow(mod_image.reshape(28, 28).detach().numpy())\n",
        "plt.show()\n",
        "net_prediction = torch.argmax(net(mod_image.to(device))).item()\n",
        "print(\"My Network Predicts That This Number Is... %s\"%(net_prediction))"
      ],
      "execution_count": null,
      "outputs": []
    },
    {
      "cell_type": "markdown",
      "metadata": {
        "id": "TVjcgCYTS0Oc"
      },
      "source": [
        "# Part 2. Defend!\n",
        "In this next part of the homework, we will ask you to use **regularization** to defend against the adversarial image you constructed in part 1. Try each of the following regularization techniques: \n",
        "* Early stopping\n",
        "* Dropout (https://pytorch.org/docs/stable/generated/torch.nn.Dropout.html)\n",
        "* L2 regularization (hint: see the `weight_decay` parameter in optim.Adam: https://pytorch.org/docs/stable/optim.html)\n",
        "\n"
      ]
    },
    {
      "cell_type": "markdown",
      "metadata": {
        "id": "DBsKM_pJe1gN"
      },
      "source": [
        "## 2.1 Train your Defense\n",
        "In this section, you'll train a network which will be able to detect that the adversarial image is a 5, not a 3.\n",
        "**Make sure your network is exactly the same architecture as you had (with the exception of adding dropout layers)!**\n",
        "\n",
        "**Your turn. Train your network on each regularization technique below. We recommend that you try each technique individually, and then combine them if necessary. Once your net completes training, you may test it on the adversarial image in the following section.**"
      ]
    },
    {
      "cell_type": "code",
      "metadata": {
        "id": "RLtb_EYauifN"
      },
      "source": [
        "#Net2 should be the same architecture as Net1 with the exception of dropout layers\n",
        "class Net2(nn.Module): \n",
        "  ..."
      ],
      "execution_count": null,
      "outputs": []
    },
    {
      "cell_type": "code",
      "metadata": {
        "id": "CUlHTpWKTDA8"
      },
      "source": [
        "#TODO: define net\n",
        "net = ... \n",
        "#TODO: define optimizer\n",
        "optimizer = ... \n",
        "#TODO: choose a good criterion\n",
        "criterion = ... \n",
        "\n",
        "train(train_loader, net, optimizer, criterion)\n",
        "loss, accuracy = test(val_loader, net, criterion)\n",
        "print(\"Evaluation\\n\\tTest Loss: %.4f\\tTest Accuracy: %.2f%%\"%(loss, accuracy*100))"
      ],
      "execution_count": null,
      "outputs": []
    },
    {
      "cell_type": "markdown",
      "metadata": {
        "id": "IarN6lE2dvcC"
      },
      "source": [
        "## 2.2 How Did We Do?\n",
        "Run the code below to test if your regularization worked. If successful, it will print \"DEFENSE SUCCESSFUL\". \n",
        "\n",
        "**Run the code below. Do not modify. If successful, take a screenshot and write down what regularization parameters led to your success**"
      ]
    },
    {
      "cell_type": "code",
      "metadata": {
        "cellView": "form",
        "id": "MMtdWWryTbB-"
      },
      "source": [
        "#@markdown Run this cell to test your defense!\n",
        "net.eval()\n",
        "\n",
        "plt.imshow(base_image.reshape(28, 28).detach().numpy())\n",
        "plt.show()\n",
        "prediction_orig = net(mod_image.to(device))\n",
        "net_predicted_class_orig = torch.argmax(prediction_orig).item()\n",
        "print(\"My Regularized Network Predicts That This Number Is... %s\"%(net_predicted_class_orig))\n",
        "plt.imshow(mod_image.reshape(28, 28).detach().numpy())\n",
        "plt.show()\n",
        "\n",
        "prediction = net(mod_image.to(device))\n",
        "net_predicted_class = torch.argmax(prediction).item()\n",
        "print(\"My Regularized Network Predicts That This Number Is... %s\"%(net_predicted_class))\n",
        "if net_predicted_class_orig == 5 and net_predicted_class == 5: \n",
        "  print(\"DEFENSE SUCCESSFUL!\")\n",
        "  saved_prediction = prediction\n",
        "else: \n",
        "  print(\"AW, SNAP! FOOLED AGAIN! GO BACK AND TRY A DIFFERENT REGULARIZATION COMBO\")"
      ],
      "execution_count": null,
      "outputs": []
    },
    {
      "cell_type": "markdown",
      "metadata": {
        "id": "_e1Vj4cufg93"
      },
      "source": [
        "**Write answers to the following questions below**\n",
        "1. How did your regularized models compare to your original model, in terms of overall accuracy? How did they compare to one another?\n",
        "2. Did your regularized models successfully defend against the adversarial task? If so, what parameters contributed to your success? "
      ]
    },
    {
      "cell_type": "code",
      "metadata": {
        "id": "CwEIFfWFeoFP"
      },
      "source": [
        "#Remove starter text and write your answer.\n",
        "reflection_1 = ''''''\n",
        "refletion_2 = ''''''\n",
        "reflection_3 = ''''''"
      ],
      "execution_count": null,
      "outputs": []
    },
    {
      "cell_type": "markdown",
      "metadata": {
        "id": "d1KoSvRJHvor"
      },
      "source": [
        "# Part 3. Deep Learning, Deeper Thinking\n"
      ]
    },
    {
      "cell_type": "markdown",
      "metadata": {
        "id": "29bQF6U__uxX"
      },
      "source": [
        "Now that you've gotten familiar with adversarial attacks and regularization, it's time to think about some of the implications of these attacks. First, read the following papers/articles.\n",
        "\n",
        "* https://openai.com/blog/adversarial-example-research/\n",
        "* https://www.sciencedirect.com/science/article/pii/S0743731518309183\n",
        "(accessible through Penn Libraries)\n",
        "\n"
      ]
    },
    {
      "cell_type": "markdown",
      "metadata": {
        "id": "RA9V9UtVQF2C"
      },
      "source": [
        "## Part 3.1 Reflect\n",
        "**Short answer: What type of adversarial attack did we conduct in section 1.5 (choose the most similar one based on the descriptions in the second paper)?**\n"
      ]
    },
    {
      "cell_type": "code",
      "source": [
        "reflection_1 = '' #@param {type:\"string\"}"
      ],
      "metadata": {
        "cellView": "form",
        "id": "owkH0p_g7SIV"
      },
      "execution_count": 11,
      "outputs": []
    },
    {
      "cell_type": "markdown",
      "metadata": {
        "id": "Z_u3T9h6QAMo"
      },
      "source": [
        "## Part 3.1 Discuss\n",
        "**In 150-300 words, please answer the following questions, and also post these to Slack**\n",
        "* As engineers, how can we safeguard against adversarial attacks? Give a real-world example of what an adversarial attack might look like (aside from the one you just deployed and the one we showed you in the worksheets), and what consequences it might have.\n",
        "* How might adversarial attacks on machine learning algorithms impact public trust of these algorithms? How might we communicate these risks to the public? \n",
        "\n"
      ]
    },
    {
      "cell_type": "code",
      "source": [
        "reflection_2 = '' #@param {type:\"string\"}"
      ],
      "metadata": {
        "cellView": "form",
        "id": "qtgpqAxp7U80"
      },
      "execution_count": null,
      "outputs": []
    },
    {
      "cell_type": "markdown",
      "metadata": {
        "id": "u7wWXWiLBhrD"
      },
      "source": [
        "# Part 4. Rethinking Generalization\n"
      ]
    },
    {
      "cell_type": "markdown",
      "metadata": {
        "id": "uLAtJonqBrb0"
      },
      "source": [
        "Read the first three pages of this article on \"Understanding Deep Learning Requires Rethinking Generalization\" [https://arxiv.org/pdf/1611.03530.pdf] and Answer the following questions:"
      ]
    },
    {
      "cell_type": "markdown",
      "metadata": {
        "id": "vt2nFHMfCzWu"
      },
      "source": [
        "1. Why is it important that neural nets can learn to get zero training error on \n",
        "images with randomized labels, or even on images that are pure random noise?"
      ]
    },
    {
      "cell_type": "code",
      "source": [
        "reflection_3 = '' #@param {type:\"string\"}"
      ],
      "metadata": {
        "cellView": "form",
        "id": "DtLLCRRe7atG"
      },
      "execution_count": null,
      "outputs": []
    },
    {
      "cell_type": "markdown",
      "metadata": {
        "id": "MrARQcJrDHXy"
      },
      "source": [
        "2. How many weights are needed in a 2-layer ReLU to fit n observations each of dimension d?\n"
      ]
    },
    {
      "cell_type": "code",
      "source": [
        "reflection_4 = '' #@param {type:\"string\"}"
      ],
      "metadata": {
        "cellView": "form",
        "id": "kzpij1kk7dwM"
      },
      "execution_count": null,
      "outputs": []
    },
    {
      "cell_type": "markdown",
      "metadata": {
        "id": "jrdJkZ-zDc-3"
      },
      "source": [
        "3. Are standard regularization methods (e.g. L1, L2, early stopping) required to prevent overfitting?"
      ]
    },
    {
      "cell_type": "code",
      "source": [
        "reflection_5 = '' #@param {type:\"string\"}"
      ],
      "metadata": {
        "cellView": "form",
        "id": "ArGwRONy7f8S"
      },
      "execution_count": null,
      "outputs": []
    },
    {
      "cell_type": "markdown",
      "metadata": {
        "id": "SH8mN2tyDsM7"
      },
      "source": [
        "4. The authors argue that “implicit regularization” is more important than explicit regularization. What do they mean by “implicit regularization” and how does it work?"
      ]
    },
    {
      "cell_type": "code",
      "source": [
        "reflection_6 = '' #@param {type:\"string\"}"
      ],
      "metadata": {
        "cellView": "form",
        "id": "K4oz0KX67imz"
      },
      "execution_count": null,
      "outputs": []
    },
    {
      "cell_type": "markdown",
      "metadata": {
        "id": "jU_EUAJyQnBm"
      },
      "source": [
        "# Part 5. Better-Know-A-Pod\n"
      ]
    },
    {
      "cell_type": "markdown",
      "metadata": {
        "id": "4WGPXvcdXpbX"
      },
      "source": [
        "**List 2 other members of your pod - not the same two that you listed in the last homeworks. What are they most excited about doing after the pandemic is over, and why? (around 100 words each).**\n",
        "\n",
        "\n",
        "\n"
      ]
    },
    {
      "cell_type": "code",
      "source": [
        "better_know_your_pod = '' #@param {type:\"string\"}"
      ],
      "metadata": {
        "cellView": "form",
        "id": "KBUk69vG7oMp"
      },
      "execution_count": null,
      "outputs": []
    },
    {
      "cell_type": "markdown",
      "metadata": {
        "id": "JzdZmL_7gtjq"
      },
      "source": [
        "# Submission\n",
        "**Load the airtable below and submit your work.**"
      ]
    },
    {
      "cell_type": "code",
      "metadata": {
        "id": "bRwrR_5VesBi",
        "cellView": "form"
      },
      "source": [
        "#@markdown #Run Cell to Show Airtable Form\n",
        "#@markdown ##**Confirm your answers and then click \"Submit\"**\n",
        "#@markdown If you're having issues with the Airtable submission, use this link: https://airtable.com/shrByNErdzJvcmsvi.\n",
        "\n",
        "import time\n",
        "import numpy as np\n",
        "import urllib.parse\n",
        "from IPython.display import IFrame\n",
        "def prefill_form(src, fields: dict):\n",
        "  '''\n",
        "  src: the original src url to embed the form\n",
        "  fields: a dictionary of field:value pairs,\n",
        "  e.g. {\"pennkey\": my_pennkey, \"location\": my_location}\n",
        "  '''\n",
        "  prefill_fields = {}\n",
        "  for key in fields:\n",
        "      new_key = 'prefill_' + key\n",
        "      prefill_fields[new_key] = fields[key]\n",
        "  prefills = urllib.parse.urlencode(prefill_fields)\n",
        "  src = src + prefills\n",
        "  return src\n",
        "\n",
        "#autofill fields if they are not present\n",
        "#a missing pennkey and pod will result in an Airtable warning\n",
        "#which is easily fixed user-side.\n",
        "try: my_pennkey;\n",
        "except NameError: my_pennkey = \"\"\n",
        "try: my_pod;\n",
        "except NameError: my_pod = \"Select\"\n",
        "try: my_email;\n",
        "except NameError: my_email = \"\"\n",
        "\n",
        "\n",
        "#autofill time if it is not present\n",
        "try: t0;\n",
        "except NameError: t0 = time.time()\n",
        "try: t1;\n",
        "except NameError: t1 = time.time()\n",
        "times = np.array([t1])-t0\n",
        "\n",
        "fields = {\"pennkey\": my_pennkey,\n",
        "          \"pod\": my_pod,\n",
        "          \"email\": my_email,\n",
        "          \"reflection_1\":reflection_1,\n",
        "          \"reflection_2\":reflection_2,\n",
        "          \"reflection_3\":reflection_3,\n",
        "          \"reflection_4\":reflection_4,\n",
        "          \"reflection_5\":reflection_5,\n",
        "          \"reflection_6\":reflection_6,\n",
        "          \"better_know_your_pod\":better_know_your_pod,\n",
        "          \"cumulative_times\": times}\n",
        "\n",
        "src = \"https://airtable.com/embed/shrByNErdzJvcmsvi?\"\n",
        "\n",
        "#now instead of the original source url, we do: src = prefill_form(src, fields)\n",
        "display(IFrame(src = prefill_form(src, fields), width = 800, height = 400))"
      ],
      "execution_count": null,
      "outputs": []
    }
  ]
}